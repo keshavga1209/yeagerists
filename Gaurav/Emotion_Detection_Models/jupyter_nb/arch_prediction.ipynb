{
  "cells": [
    {
      "cell_type": "markdown",
      "metadata": {
        "id": "view-in-github",
        "colab_type": "text"
      },
      "source": [
        "<a href=\"https://colab.research.google.com/github/keshavga1209/yeagerists/blob/flask/Gaurav/Emotion_Detection_Models/jupyter_nb/arch_prediction.ipynb\" target=\"_parent\"><img src=\"https://colab.research.google.com/assets/colab-badge.svg\" alt=\"Open In Colab\"/></a>"
      ]
    },
    {
      "cell_type": "code",
      "execution_count": 1,
      "metadata": {
        "id": "bkxZnWFtKdyR"
      },
      "outputs": [],
      "source": [
        "import numpy as np\n",
        "import matplotlib.pyplot as plt\n",
        "import keras\n",
        "import os\n",
        "import PIL\n",
        "import pathlib\n",
        "import tensorflow as tf"
      ]
    },
    {
      "cell_type": "code",
      "execution_count": 2,
      "metadata": {
        "id": "Ttl2_KgYofqq"
      },
      "outputs": [],
      "source": [
        "data_dir = \"/content/drive/MyDrive/hack_the_tank/Feet\"\n",
        "data_dir = pathlib.Path(data_dir)\n",
        "img_height = 256\n",
        "img_width = 256\n",
        "# batch_size = 17640"
      ]
    },
    {
      "cell_type": "code",
      "source": [
        "from google.colab import drive\n",
        "drive.mount('/content/drive')"
      ],
      "metadata": {
        "id": "bTMIUsgGDwWU",
        "outputId": "53f5122c-4706-40d4-ea75-68ba19d5579a",
        "colab": {
          "base_uri": "https://localhost:8080/"
        }
      },
      "execution_count": 3,
      "outputs": [
        {
          "output_type": "stream",
          "name": "stdout",
          "text": [
            "Drive already mounted at /content/drive; to attempt to forcibly remount, call drive.mount(\"/content/drive\", force_remount=True).\n"
          ]
        }
      ]
    },
    {
      "cell_type": "code",
      "execution_count": 4,
      "metadata": {
        "colab": {
          "base_uri": "https://localhost:8080/"
        },
        "id": "60jhFyIb_hux",
        "outputId": "47b9c995-72d6-49a9-97c6-f41a52a67a05"
      },
      "outputs": [
        {
          "output_type": "stream",
          "name": "stdout",
          "text": [
            "1215\n"
          ]
        }
      ],
      "source": [
        "image_count = len(list(data_dir.glob('*/*.jpg')))\n",
        "print(image_count)\n"
      ]
    },
    {
      "cell_type": "code",
      "execution_count": 5,
      "metadata": {
        "colab": {
          "base_uri": "https://localhost:8080/"
        },
        "id": "O4CU13Y5oqDh",
        "outputId": "d68c6ab2-3b6e-4fb7-d520-1dbcbc41eca0"
      },
      "outputs": [
        {
          "output_type": "stream",
          "name": "stdout",
          "text": [
            "Found 1217 files belonging to 3 classes.\n",
            "Using 974 files for training.\n"
          ]
        }
      ],
      "source": [
        "train_ds = tf.keras.preprocessing.image_dataset_from_directory(\n",
        "  data_dir,\n",
        "  validation_split=0.2,\n",
        "  seed=5,\n",
        "  shuffle=True,\n",
        "  subset=\"training\",\n",
        "  image_size=(img_height, img_width),\n",
        "  batch_size=32)"
      ]
    },
    {
      "cell_type": "code",
      "execution_count": 6,
      "metadata": {
        "colab": {
          "base_uri": "https://localhost:8080/"
        },
        "id": "WvkG3aVtoqOu",
        "outputId": "acfe175f-bee0-4884-af0d-f30ef8073fe6"
      },
      "outputs": [
        {
          "output_type": "stream",
          "name": "stdout",
          "text": [
            "Found 1217 files belonging to 3 classes.\n",
            "Using 243 files for validation.\n"
          ]
        }
      ],
      "source": [
        "validation_ds = tf.keras.preprocessing.image_dataset_from_directory(\n",
        "  data_dir,\n",
        "  validation_split=0.2,\n",
        "  seed=5,\n",
        "  shuffle=True,\n",
        "  subset=\"validation\",\n",
        "  image_size=(img_height, img_width),\n",
        "  batch_size=32)"
      ]
    },
    {
      "cell_type": "code",
      "execution_count": 7,
      "metadata": {
        "colab": {
          "base_uri": "https://localhost:8080/"
        },
        "id": "dlPxOXH1pkEW",
        "outputId": "f6993927-86ec-47d5-b4de-cc45c531acf2"
      },
      "outputs": [
        {
          "output_type": "stream",
          "name": "stdout",
          "text": [
            "['FLAT', 'HIGH', 'NORMAL']\n"
          ]
        }
      ],
      "source": [
        "classes = train_ds.class_names\n",
        "print(classes)"
      ]
    },
    {
      "cell_type": "code",
      "execution_count": 8,
      "metadata": {
        "id": "H6ie_Mhr_zeV"
      },
      "outputs": [],
      "source": [
        "AUTOTUNE = tf.data.experimental.AUTOTUNE\n",
        "\n",
        "train = train_ds.cache().prefetch(buffer_size=AUTOTUNE)\n",
        "validation = validation_ds.cache().prefetch(buffer_size=AUTOTUNE)"
      ]
    },
    {
      "cell_type": "code",
      "execution_count": 9,
      "metadata": {
        "id": "tRbdKwnp02Ww"
      },
      "outputs": [],
      "source": [
        "model = tf.keras.Sequential([\n",
        "                             tf.keras.layers.experimental.preprocessing.Rescaling(1./255),\n",
        "                             tf.keras.layers.Conv2D(32, (5, 5), activation='relu', input_shape=(256, 256, 3)),\n",
        "                             tf.keras.layers.MaxPooling2D((2, 2)),\n",
        "                             tf.keras.layers.Conv2D(32, (5, 5), activation='relu'),\n",
        "                             tf.keras.layers.MaxPooling2D((2, 2)),\n",
        "                             tf.keras.layers.Conv2D(32, (5, 5), activation='relu'),\n",
        "                             tf.keras.layers.MaxPooling2D((2, 2)),\n",
        "                             tf.keras.layers.Flatten(),\n",
        "                             tf.keras.layers.Dense(512, activation=\"relu\"),\n",
        "                             tf.keras.layers.Dense(128, activation=\"relu\"),\n",
        "                             tf.keras.layers.Dense(64, activation=\"relu\"),\n",
        "                             tf.keras.layers.Dense(32, activation=\"relu\"),\n",
        "                             tf.keras.layers.Dense(3)\n",
        "])"
      ]
    },
    {
      "cell_type": "code",
      "execution_count": 10,
      "metadata": {
        "id": "fdu6J4bX5bmo"
      },
      "outputs": [],
      "source": [
        "model.compile(optimizer='adam',\n",
        "              loss=tf.keras.losses.SparseCategoricalCrossentropy(from_logits=True),\n",
        "              metrics=['accuracy'])"
      ]
    },
    {
      "cell_type": "code",
      "execution_count": 11,
      "metadata": {
        "id": "8pNh7T24u61M"
      },
      "outputs": [],
      "source": [
        "class CustomCallbacks(tf.keras.callbacks.Callback):\n",
        "    def on_epoch_end(self, epoch, logs={}):\n",
        "      if(logs.get('accuracy')>0.98):\n",
        "        print(\"\\n 98% acc reached\")\n",
        "        self.model.stop_training = True"
      ]
    },
    {
      "cell_type": "code",
      "execution_count": 12,
      "metadata": {
        "colab": {
          "base_uri": "https://localhost:8080/"
        },
        "id": "LwlWhPfa_GSq",
        "outputId": "9c368770-198d-4d6c-bc8a-098ad3e45f64"
      },
      "outputs": [
        {
          "output_type": "stream",
          "name": "stdout",
          "text": [
            "Epoch 1/50\n",
            "31/31 [==============================] - 28s 377ms/step - loss: 0.9463 - accuracy: 0.7361 - val_loss: 0.8369 - val_accuracy: 0.7325\n",
            "Epoch 2/50\n",
            "31/31 [==============================] - 2s 60ms/step - loss: 0.7689 - accuracy: 0.7392 - val_loss: 0.7342 - val_accuracy: 0.7325\n",
            "Epoch 3/50\n",
            "31/31 [==============================] - 2s 61ms/step - loss: 0.7113 - accuracy: 0.7382 - val_loss: 0.6964 - val_accuracy: 0.7325\n",
            "Epoch 4/50\n",
            "31/31 [==============================] - 2s 59ms/step - loss: 0.6383 - accuracy: 0.7515 - val_loss: 0.6214 - val_accuracy: 0.7695\n",
            "Epoch 5/50\n",
            "31/31 [==============================] - 2s 59ms/step - loss: 0.5580 - accuracy: 0.7875 - val_loss: 0.6122 - val_accuracy: 0.7819\n",
            "Epoch 6/50\n",
            "31/31 [==============================] - 2s 59ms/step - loss: 0.5113 - accuracy: 0.8018 - val_loss: 0.5668 - val_accuracy: 0.7860\n",
            "Epoch 7/50\n",
            "31/31 [==============================] - 2s 59ms/step - loss: 0.3975 - accuracy: 0.8388 - val_loss: 0.6279 - val_accuracy: 0.7737\n",
            "Epoch 8/50\n",
            "31/31 [==============================] - 2s 59ms/step - loss: 0.3470 - accuracy: 0.8604 - val_loss: 0.6107 - val_accuracy: 0.7366\n",
            "Epoch 9/50\n",
            "31/31 [==============================] - 2s 61ms/step - loss: 0.2804 - accuracy: 0.8973 - val_loss: 0.7047 - val_accuracy: 0.7613\n",
            "Epoch 10/50\n",
            "31/31 [==============================] - 2s 67ms/step - loss: 0.2217 - accuracy: 0.9179 - val_loss: 0.6747 - val_accuracy: 0.7942\n",
            "Epoch 11/50\n",
            "31/31 [==============================] - 2s 59ms/step - loss: 0.2222 - accuracy: 0.9189 - val_loss: 0.6703 - val_accuracy: 0.8025\n",
            "Epoch 12/50\n",
            "31/31 [==============================] - 2s 59ms/step - loss: 0.2147 - accuracy: 0.9292 - val_loss: 0.8423 - val_accuracy: 0.8107\n",
            "Epoch 13/50\n",
            "31/31 [==============================] - 2s 59ms/step - loss: 0.1468 - accuracy: 0.9394 - val_loss: 1.0686 - val_accuracy: 0.8066\n",
            "Epoch 14/50\n",
            "31/31 [==============================] - 2s 59ms/step - loss: 0.1847 - accuracy: 0.9312 - val_loss: 0.8179 - val_accuracy: 0.7860\n",
            "Epoch 15/50\n",
            "31/31 [==============================] - 2s 59ms/step - loss: 0.1564 - accuracy: 0.9405 - val_loss: 1.1253 - val_accuracy: 0.7654\n",
            "Epoch 16/50\n",
            "31/31 [==============================] - 2s 67ms/step - loss: 0.1186 - accuracy: 0.9559 - val_loss: 1.0464 - val_accuracy: 0.8025\n",
            "Epoch 17/50\n",
            "31/31 [==============================] - 2s 61ms/step - loss: 0.0955 - accuracy: 0.9579 - val_loss: 1.0577 - val_accuracy: 0.8066\n",
            "Epoch 18/50\n",
            "31/31 [==============================] - 2s 59ms/step - loss: 0.0722 - accuracy: 0.9661 - val_loss: 1.2456 - val_accuracy: 0.7984\n",
            "Epoch 19/50\n",
            "31/31 [==============================] - 2s 59ms/step - loss: 0.0641 - accuracy: 0.9630 - val_loss: 1.3704 - val_accuracy: 0.8025\n",
            "Epoch 20/50\n",
            "31/31 [==============================] - 2s 59ms/step - loss: 0.0574 - accuracy: 0.9641 - val_loss: 1.6289 - val_accuracy: 0.7737\n",
            "Epoch 21/50\n",
            "31/31 [==============================] - 2s 59ms/step - loss: 0.0949 - accuracy: 0.9620 - val_loss: 1.2581 - val_accuracy: 0.8066\n",
            "Epoch 22/50\n",
            "31/31 [==============================] - 2s 65ms/step - loss: 0.1510 - accuracy: 0.9476 - val_loss: 1.1826 - val_accuracy: 0.7984\n",
            "Epoch 23/50\n",
            "31/31 [==============================] - 2s 67ms/step - loss: 0.1304 - accuracy: 0.9476 - val_loss: 0.9108 - val_accuracy: 0.7901\n",
            "Epoch 24/50\n",
            "31/31 [==============================] - 2s 59ms/step - loss: 0.0997 - accuracy: 0.9559 - val_loss: 1.1811 - val_accuracy: 0.7778\n",
            "Epoch 25/50\n",
            "31/31 [==============================] - 2s 59ms/step - loss: 0.0830 - accuracy: 0.9641 - val_loss: 1.6652 - val_accuracy: 0.7613\n",
            "Epoch 26/50\n",
            "31/31 [==============================] - 2s 63ms/step - loss: 0.1044 - accuracy: 0.9528 - val_loss: 1.4126 - val_accuracy: 0.8148\n",
            "Epoch 27/50\n",
            "31/31 [==============================] - 2s 63ms/step - loss: 0.0810 - accuracy: 0.9620 - val_loss: 1.7013 - val_accuracy: 0.7942\n",
            "Epoch 28/50\n",
            "31/31 [==============================] - 2s 59ms/step - loss: 0.0632 - accuracy: 0.9651 - val_loss: 1.6206 - val_accuracy: 0.8272\n",
            "Epoch 29/50\n",
            "31/31 [==============================] - 2s 62ms/step - loss: 0.0530 - accuracy: 0.9651 - val_loss: 1.8462 - val_accuracy: 0.8313\n",
            "Epoch 30/50\n",
            "31/31 [==============================] - 2s 61ms/step - loss: 0.0549 - accuracy: 0.9630 - val_loss: 1.5227 - val_accuracy: 0.8107\n",
            "Epoch 31/50\n",
            "31/31 [==============================] - 2s 59ms/step - loss: 0.0496 - accuracy: 0.9641 - val_loss: 1.8113 - val_accuracy: 0.8272\n",
            "Epoch 32/50\n",
            "31/31 [==============================] - 2s 59ms/step - loss: 0.0452 - accuracy: 0.9702 - val_loss: 1.8949 - val_accuracy: 0.8313\n",
            "Epoch 33/50\n",
            "31/31 [==============================] - 2s 59ms/step - loss: 0.0487 - accuracy: 0.9682 - val_loss: 2.0990 - val_accuracy: 0.8148\n",
            "Epoch 34/50\n",
            "31/31 [==============================] - 2s 59ms/step - loss: 0.0607 - accuracy: 0.9702 - val_loss: 1.9765 - val_accuracy: 0.7860\n",
            "Epoch 35/50\n",
            "31/31 [==============================] - 2s 59ms/step - loss: 0.1199 - accuracy: 0.9548 - val_loss: 1.4099 - val_accuracy: 0.8436\n",
            "Epoch 36/50\n",
            "31/31 [==============================] - 2s 62ms/step - loss: 0.1323 - accuracy: 0.9487 - val_loss: 1.1827 - val_accuracy: 0.7778\n",
            "Epoch 37/50\n",
            "31/31 [==============================] - 2s 67ms/step - loss: 0.1027 - accuracy: 0.9600 - val_loss: 1.5378 - val_accuracy: 0.8066\n",
            "Epoch 38/50\n",
            "31/31 [==============================] - 2s 60ms/step - loss: 0.0793 - accuracy: 0.9548 - val_loss: 1.9971 - val_accuracy: 0.7984\n",
            "Epoch 39/50\n",
            "31/31 [==============================] - 2s 59ms/step - loss: 0.1147 - accuracy: 0.9569 - val_loss: 1.5161 - val_accuracy: 0.7778\n",
            "Epoch 40/50\n",
            "31/31 [==============================] - 2s 59ms/step - loss: 0.0712 - accuracy: 0.9630 - val_loss: 1.8528 - val_accuracy: 0.7984\n",
            "Epoch 41/50\n",
            "31/31 [==============================] - 2s 59ms/step - loss: 0.0696 - accuracy: 0.9692 - val_loss: 1.8793 - val_accuracy: 0.8025\n",
            "Epoch 42/50\n",
            "31/31 [==============================] - 2s 60ms/step - loss: 0.0558 - accuracy: 0.9682 - val_loss: 2.1821 - val_accuracy: 0.8148\n",
            "Epoch 43/50\n",
            "31/31 [==============================] - 2s 66ms/step - loss: 0.0464 - accuracy: 0.9671 - val_loss: 2.3828 - val_accuracy: 0.8025\n",
            "Epoch 44/50\n",
            "31/31 [==============================] - 2s 66ms/step - loss: 0.0470 - accuracy: 0.9682 - val_loss: 2.6424 - val_accuracy: 0.7942\n",
            "Epoch 45/50\n",
            "31/31 [==============================] - 2s 59ms/step - loss: 0.0616 - accuracy: 0.9661 - val_loss: 1.9132 - val_accuracy: 0.8189\n",
            "Epoch 46/50\n",
            "31/31 [==============================] - 2s 60ms/step - loss: 0.0485 - accuracy: 0.9661 - val_loss: 2.3165 - val_accuracy: 0.7778\n",
            "Epoch 47/50\n",
            "31/31 [==============================] - 2s 60ms/step - loss: 0.0479 - accuracy: 0.9692 - val_loss: 2.7951 - val_accuracy: 0.8025\n",
            "Epoch 48/50\n",
            "31/31 [==============================] - 2s 60ms/step - loss: 0.0421 - accuracy: 0.9713 - val_loss: 2.7702 - val_accuracy: 0.8107\n",
            "Epoch 49/50\n",
            "31/31 [==============================] - 2s 65ms/step - loss: 0.0427 - accuracy: 0.9713 - val_loss: 2.8050 - val_accuracy: 0.7654\n",
            "Epoch 50/50\n",
            "31/31 [==============================] - 2s 68ms/step - loss: 0.0491 - accuracy: 0.9661 - val_loss: 2.5297 - val_accuracy: 0.8066\n"
          ]
        },
        {
          "output_type": "execute_result",
          "data": {
            "text/plain": [
              "<keras.callbacks.History at 0x7f0e64009130>"
            ]
          },
          "metadata": {},
          "execution_count": 12
        }
      ],
      "source": [
        "model.fit(\n",
        "  train,\n",
        "  validation_data=validation,\n",
        "  epochs=50,\n",
        "  callbacks=[CustomCallbacks()]\n",
        ")"
      ]
    },
    {
      "cell_type": "code",
      "execution_count": 13,
      "metadata": {
        "id": "xc6V0ZQ8xFPr"
      },
      "outputs": [],
      "source": [
        "# import joblib"
      ]
    },
    {
      "cell_type": "code",
      "source": [
        "# joblib.dump(model, '/content/drive/MyDrive/hack_the_tank/model1_simple.pkl')"
      ],
      "metadata": {
        "id": "yeA9jeK4Gj0x"
      },
      "execution_count": 14,
      "outputs": []
    },
    {
      "cell_type": "code",
      "source": [
        "model.save(\"/content/drive/MyDrive/hack_the_tank/model50_1\")"
      ],
      "metadata": {
        "id": "3sj3BvImGp_G",
        "outputId": "d60eda52-691d-4293-900c-f13da8a16ade",
        "colab": {
          "base_uri": "https://localhost:8080/"
        }
      },
      "execution_count": 15,
      "outputs": [
        {
          "output_type": "stream",
          "name": "stderr",
          "text": [
            "WARNING:absl:Found untraced functions such as _jit_compiled_convolution_op, _jit_compiled_convolution_op, _jit_compiled_convolution_op, _update_step_xla while saving (showing 4 of 4). These functions will not be directly callable after loading.\n"
          ]
        }
      ]
    },
    {
      "cell_type": "code",
      "source": [
        "# model = joblib.load(\"/content/model.pkl\")\n",
        "# print(model(np.random.random((1,5))))"
      ],
      "metadata": {
        "id": "gXhUn4CRHUpL"
      },
      "execution_count": 16,
      "outputs": []
    },
    {
      "cell_type": "code",
      "source": [
        "# def test():"
      ],
      "metadata": {
        "id": "WtpYO_zFHySf"
      },
      "execution_count": 17,
      "outputs": []
    },
    {
      "cell_type": "code",
      "source": [
        "for f in os.listdir('/content/drive/MyDrive/hack_the_tank/test_dummy'):\n",
        "    imgpath = os.path.join('/content/drive/MyDrive/hack_the_tank/test_dummy',f)\n",
        "    img = keras.utils.load_img(\n",
        "        imgpath, target_size=(256, 256)\n",
        "    )\n",
        "    img_array = keras.utils.img_to_array(img)\n",
        "    img_array = tf.expand_dims(img_array, 0) # Create a batch\n",
        "    predictions = model.predict(img_array)\n",
        "    score = np.array(tf.nn.softmax(predictions[0]))\n",
        "    print(predictions)\n",
        "    print(imgpath, score)"
      ],
      "metadata": {
        "id": "omtXruvMMfsH",
        "outputId": "6cc14e56-5410-4dbc-a979-fbd845a2c287",
        "colab": {
          "base_uri": "https://localhost:8080/"
        }
      },
      "execution_count": 25,
      "outputs": [
        {
          "output_type": "stream",
          "name": "stdout",
          "text": [
            "1/1 [==============================] - 0s 20ms/step\n",
            "[[-16.00083    -3.3058681  15.752536 ]]\n",
            "/content/drive/MyDrive/hack_the_tank/test_dummy/flat2.jpeg [1.6206491e-14 5.2849485e-09 1.0000000e+00]\n",
            "1/1 [==============================] - 0s 22ms/step\n",
            "[[ 31.18276  -19.586487 -12.88805 ]]\n",
            "/content/drive/MyDrive/hack_the_tank/test_dummy/flat4.jpeg [1.000000e+00 8.937074e-23 7.249217e-20]\n",
            "1/1 [==============================] - 0s 19ms/step\n",
            "[[ 22.957922 -10.385742 -21.290129]]\n",
            "/content/drive/MyDrive/hack_the_tank/test_dummy/Flatfoot5.jpg [1.0000000e+00 3.3039223e-15 6.0717765e-20]\n",
            "1/1 [==============================] - 0s 20ms/step\n",
            "[[ 3.4571145 -3.015052  -0.7726442]]\n",
            "/content/drive/MyDrive/hack_the_tank/test_dummy/High_arch.webp [0.98415333 0.00152138 0.01432524]\n",
            "1/1 [==============================] - 0s 20ms/step\n",
            "[[14.878993 -8.692794 -7.833652]]\n",
            "/content/drive/MyDrive/hack_the_tank/test_dummy/arch_foot.jpg [1.0000000e+00 5.7929932e-11 1.3678038e-10]\n",
            "1/1 [==============================] - 0s 21ms/step\n",
            "[[ 1.3102446 -2.3641748  1.2442758]]\n",
            "/content/drive/MyDrive/hack_the_tank/test_dummy/Flat-Feet-3.jpg [0.5098076  0.01293083 0.47726157]\n",
            "1/1 [==============================] - 0s 23ms/step\n",
            "[[ 30.625032 -14.464479 -23.299082]]\n",
            "/content/drive/MyDrive/hack_the_tank/test_dummy/higharch2.webp [1.0000000e+00 2.6174222e-20 3.8111389e-24]\n",
            "1/1 [==============================] - 0s 21ms/step\n",
            "[[  1.6702275 -11.450032    6.402541 ]]\n",
            "/content/drive/MyDrive/hack_the_tank/test_dummy/flat.jpeg [8.729204e-03 1.749517e-08 9.912708e-01]\n",
            "1/1 [==============================] - 0s 22ms/step\n",
            "[[ 32.895283 -18.78879  -20.98488 ]]\n",
            "/content/drive/MyDrive/hack_the_tank/test_dummy/normal.jpg [1.0000000e+00 3.5800714e-23 3.9823698e-24]\n",
            "1/1 [==============================] - 0s 23ms/step\n",
            "[[ 30.418016 -20.751072 -11.865091]]\n",
            "/content/drive/MyDrive/hack_the_tank/test_dummy/thakker2.jpg [1.0000000e+00 5.9916504e-23 4.3319118e-19]\n"
          ]
        }
      ]
    },
    {
      "cell_type": "code",
      "source": [
        "!pip freeze"
      ],
      "metadata": {
        "id": "xrxW8KzlW_pV",
        "outputId": "286bde2f-8f56-4012-c9cf-4c216e162271",
        "colab": {
          "base_uri": "https://localhost:8080/"
        }
      },
      "execution_count": 1,
      "outputs": [
        {
          "output_type": "stream",
          "name": "stdout",
          "text": [
            "absl-py==1.4.0\n",
            "alabaster==0.7.13\n",
            "albumentations==1.2.1\n",
            "altair==4.2.2\n",
            "appdirs==1.4.4\n",
            "argon2-cffi==21.3.0\n",
            "argon2-cffi-bindings==21.2.0\n",
            "arviz==0.15.1\n",
            "astropy==5.2.1\n",
            "astunparse==1.6.3\n",
            "attrs==22.2.0\n",
            "audioread==3.0.0\n",
            "autograd==1.5\n",
            "Babel==2.12.1\n",
            "backcall==0.2.0\n",
            "beautifulsoup4==4.11.2\n",
            "bleach==6.0.0\n",
            "blis==0.7.9\n",
            "bokeh==2.4.3\n",
            "branca==0.6.0\n",
            "CacheControl==0.12.11\n",
            "cached-property==1.5.2\n",
            "cachetools==5.3.0\n",
            "catalogue==2.0.8\n",
            "certifi==2022.12.7\n",
            "cffi==1.15.1\n",
            "chardet==3.0.4\n",
            "charset-normalizer==2.0.12\n",
            "chex==0.1.6\n",
            "click==8.1.3\n",
            "cloudpickle==2.2.1\n",
            "cmake==3.25.2\n",
            "cmdstanpy==1.1.0\n",
            "colorcet==3.0.1\n",
            "colorlover==0.3.0\n",
            "community==1.0.0b1\n",
            "confection==0.0.4\n",
            "cons==0.4.5\n",
            "contextlib2==0.6.0.post1\n",
            "contourpy==1.0.7\n",
            "convertdate==2.4.0\n",
            "cryptography==39.0.2\n",
            "cufflinks==0.17.3\n",
            "cupy-cuda11x==11.0.0\n",
            "cvxopt==1.3.0\n",
            "cvxpy==1.3.1\n",
            "cycler==0.11.0\n",
            "cymem==2.0.7\n",
            "Cython==0.29.33\n",
            "dask==2022.12.1\n",
            "datascience==0.17.6\n",
            "db-dtypes==1.0.5\n",
            "dbus-python==1.2.16\n",
            "debugpy==1.6.6\n",
            "decorator==4.4.2\n",
            "defusedxml==0.7.1\n",
            "distributed==2022.12.1\n",
            "dlib==19.24.0\n",
            "dm-tree==0.1.8\n",
            "docutils==0.16\n",
            "dopamine-rl==4.0.6\n",
            "earthengine-api==0.1.346\n",
            "easydict==1.10\n",
            "ecos==2.0.12\n",
            "editdistance==0.5.3\n",
            "en-core-web-sm @ https://github.com/explosion/spacy-models/releases/download/en_core_web_sm-3.5.0/en_core_web_sm-3.5.0-py3-none-any.whl\n",
            "entrypoints==0.4\n",
            "ephem==4.1.4\n",
            "et-xmlfile==1.1.0\n",
            "etils==1.1.1\n",
            "etuples==0.3.8\n",
            "exceptiongroup==1.1.1\n",
            "fastai==2.7.11\n",
            "fastcore==1.5.28\n",
            "fastdownload==0.0.7\n",
            "fastjsonschema==2.16.3\n",
            "fastprogress==1.0.3\n",
            "fastrlock==0.8.1\n",
            "filelock==3.10.1\n",
            "firebase-admin==5.3.0\n",
            "Flask==2.2.3\n",
            "flatbuffers==23.3.3\n",
            "flax==0.6.7\n",
            "folium==0.14.0\n",
            "fonttools==4.39.2\n",
            "frozendict==2.3.6\n",
            "fsspec==2023.3.0\n",
            "future==0.18.3\n",
            "gast==0.4.0\n",
            "GDAL==3.3.2\n",
            "gdown==4.6.4\n",
            "gensim==4.3.1\n",
            "geographiclib==2.0\n",
            "geopy==2.3.0\n",
            "gin-config==0.5.0\n",
            "glob2==0.7\n",
            "google==2.0.3\n",
            "google-api-core==2.11.0\n",
            "google-api-python-client==2.70.0\n",
            "google-auth==2.16.2\n",
            "google-auth-httplib2==0.1.0\n",
            "google-auth-oauthlib==0.4.6\n",
            "google-cloud-bigquery==3.4.2\n",
            "google-cloud-bigquery-storage==2.19.0\n",
            "google-cloud-core==2.3.2\n",
            "google-cloud-datastore==2.11.1\n",
            "google-cloud-firestore==2.7.3\n",
            "google-cloud-language==2.6.1\n",
            "google-cloud-storage==2.7.0\n",
            "google-cloud-translate==3.8.4\n",
            "google-colab @ file:///colabtools/dist/google-colab-1.0.0.tar.gz\n",
            "google-crc32c==1.5.0\n",
            "google-pasta==0.2.0\n",
            "google-resumable-media==2.4.1\n",
            "googleapis-common-protos==1.59.0\n",
            "googledrivedownloader==0.4\n",
            "graphviz==0.20.1\n",
            "greenlet==2.0.2\n",
            "grpcio==1.51.3\n",
            "grpcio-status==1.48.2\n",
            "gspread==3.4.2\n",
            "gspread-dataframe==3.0.8\n",
            "gym==0.25.2\n",
            "gym-notices==0.0.8\n",
            "h5netcdf==1.1.0\n",
            "h5py==3.8.0\n",
            "HeapDict==1.0.1\n",
            "hijri-converter==2.2.4\n",
            "holidays==0.21.13\n",
            "holoviews==1.15.4\n",
            "html5lib==1.1\n",
            "htmlmin==0.1.12\n",
            "httpimport==1.3.0\n",
            "httplib2==0.21.0\n",
            "humanize==4.6.0\n",
            "hyperopt==0.2.7\n",
            "idna==3.4\n",
            "ImageHash==4.3.1\n",
            "imageio==2.25.1\n",
            "imageio-ffmpeg==0.4.8\n",
            "imagesize==1.4.1\n",
            "imbalanced-learn==0.10.1\n",
            "imgaug==0.4.0\n",
            "importlib-metadata==6.1.0\n",
            "importlib-resources==5.12.0\n",
            "imutils==0.5.4\n",
            "inflect==6.0.2\n",
            "iniconfig==2.0.0\n",
            "intel-openmp==2023.0.0\n",
            "ipykernel==5.3.4\n",
            "ipython==7.9.0\n",
            "ipython-genutils==0.2.0\n",
            "ipython-sql==0.4.1\n",
            "ipywidgets==7.7.1\n",
            "itsdangerous==2.1.2\n",
            "jax==0.4.6\n",
            "jaxlib @ https://storage.googleapis.com/jax-releases/cuda11/jaxlib-0.4.6+cuda11.cudnn86-cp39-cp39-manylinux2014_x86_64.whl\n",
            "jieba==0.42.1\n",
            "Jinja2==3.1.2\n",
            "joblib==1.1.1\n",
            "jsonschema==4.3.3\n",
            "jupyter-client==6.1.12\n",
            "jupyter-console==6.1.0\n",
            "jupyter_core==5.3.0\n",
            "jupyterlab-pygments==0.2.2\n",
            "jupyterlab-widgets==3.0.6\n",
            "kaggle==1.5.13\n",
            "keras==2.11.0\n",
            "keras-vis==0.4.1\n",
            "kiwisolver==1.4.4\n",
            "korean-lunar-calendar==0.3.1\n",
            "langcodes==3.3.0\n",
            "lazy_loader==0.2\n",
            "libclang==15.0.6.1\n",
            "librosa==0.10.0.post2\n",
            "lightgbm==3.3.5\n",
            "llvmlite==0.39.1\n",
            "locket==1.0.0\n",
            "logical-unification==0.4.5\n",
            "LunarCalendar==0.0.9\n",
            "lxml==4.9.2\n",
            "Markdown==3.4.2\n",
            "markdown-it-py==2.2.0\n",
            "MarkupSafe==2.1.2\n",
            "matplotlib==3.7.1\n",
            "matplotlib-venn==0.11.9\n",
            "mdurl==0.1.2\n",
            "miniKanren==1.0.3\n",
            "missingno==0.5.2\n",
            "mistune==0.8.4\n",
            "mizani==0.8.1\n",
            "mkl==2019.0\n",
            "mlxtend==0.14.0\n",
            "more-itertools==9.1.0\n",
            "moviepy==1.0.3\n",
            "mpmath==1.3.0\n",
            "msgpack==1.0.5\n",
            "multimethod==1.9.1\n",
            "multipledispatch==0.6.0\n",
            "multitasking==0.0.11\n",
            "murmurhash==1.0.9\n",
            "music21==5.5.0\n",
            "natsort==5.5.0\n",
            "nbclient==0.7.2\n",
            "nbconvert==6.5.4\n",
            "nbformat==5.8.0\n",
            "nest-asyncio==1.5.6\n",
            "networkx==3.0\n",
            "nibabel==3.0.2\n",
            "nltk==3.8.1\n",
            "notebook==6.3.0\n",
            "numba==0.56.4\n",
            "numexpr==2.8.4\n",
            "numpy==1.22.4\n",
            "oauth2client==4.1.3\n",
            "oauthlib==3.2.2\n",
            "opencv-contrib-python==4.7.0.72\n",
            "opencv-python==4.7.0.72\n",
            "opencv-python-headless==4.7.0.72\n",
            "openpyxl==3.0.10\n",
            "opt-einsum==3.3.0\n",
            "optax==0.1.4\n",
            "orbax==0.1.6\n",
            "osqp==0.6.2.post0\n",
            "packaging==23.0\n",
            "palettable==3.3.0\n",
            "pandas==1.4.4\n",
            "pandas-datareader==0.10.0\n",
            "pandas-gbq==0.17.9\n",
            "pandas-profiling==3.2.0\n",
            "pandocfilters==1.5.0\n",
            "panel==0.14.4\n",
            "param==1.13.0\n",
            "parso==0.8.3\n",
            "partd==1.3.0\n",
            "pathlib==1.0.1\n",
            "pathy==0.10.1\n",
            "patsy==0.5.3\n",
            "pep517==0.13.0\n",
            "pexpect==4.8.0\n",
            "phik==0.12.3\n",
            "pickleshare==0.7.5\n",
            "Pillow==8.4.0\n",
            "pip-tools==6.6.2\n",
            "platformdirs==3.1.1\n",
            "plotly==5.13.1\n",
            "plotnine==0.10.1\n",
            "pluggy==1.0.0\n",
            "pooch==1.6.0\n",
            "portpicker==1.3.9\n",
            "prefetch-generator==1.0.3\n",
            "preshed==3.0.8\n",
            "prettytable==0.7.2\n",
            "proglog==0.1.10\n",
            "progressbar2==3.38.0\n",
            "prometheus-client==0.16.0\n",
            "promise==2.3\n",
            "prompt-toolkit==2.0.10\n",
            "prophet==1.1.2\n",
            "proto-plus==1.22.2\n",
            "protobuf==3.19.6\n",
            "psutil==5.9.4\n",
            "psycopg2==2.9.5\n",
            "ptyprocess==0.7.0\n",
            "py4j==0.10.9.7\n",
            "pyarrow==9.0.0\n",
            "pyasn1==0.4.8\n",
            "pyasn1-modules==0.2.8\n",
            "pycocotools==2.0.6\n",
            "pycparser==2.21\n",
            "pyct==0.5.0\n",
            "pydantic==1.10.7\n",
            "pydata-google-auth==1.7.0\n",
            "pydot==1.4.2\n",
            "pydot-ng==2.0.0\n",
            "pydotplus==2.0.2\n",
            "PyDrive==1.3.1\n",
            "pyerfa==2.0.0.2\n",
            "pygame==2.3.0\n",
            "Pygments==2.14.0\n",
            "PyGObject==3.36.0\n",
            "pymc==5.1.2\n",
            "PyMeeus==0.5.12\n",
            "pymystem3==0.2.0\n",
            "PyOpenGL==3.1.6\n",
            "pyparsing==3.0.9\n",
            "pyrsistent==0.19.3\n",
            "PySocks==1.7.1\n",
            "pytensor==2.10.1\n",
            "pytest==7.2.2\n",
            "python-apt==0.0.0\n",
            "python-dateutil==2.8.2\n",
            "python-louvain==0.16\n",
            "python-slugify==8.0.1\n",
            "python-utils==3.5.2\n",
            "pytz==2022.7.1\n",
            "pytz-deprecation-shim==0.1.0.post0\n",
            "pyviz-comms==2.2.1\n",
            "PyWavelets==1.4.1\n",
            "PyYAML==6.0\n",
            "pyzmq==23.2.1\n",
            "qdldl==0.1.5.post3\n",
            "qudida==0.0.4\n",
            "regex==2022.10.31\n",
            "requests==2.27.1\n",
            "requests-oauthlib==1.3.1\n",
            "requests-unixsocket==0.2.0\n",
            "rich==13.3.2\n",
            "rpy2==3.5.5\n",
            "rsa==4.9\n",
            "scikit-image==0.19.3\n",
            "scikit-learn==1.2.2\n",
            "scipy==1.10.1\n",
            "screen-resolution-extra==0.0.0\n",
            "scs==3.2.2\n",
            "seaborn==0.12.2\n",
            "Send2Trash==1.8.0\n",
            "shapely==2.0.1\n",
            "six==1.16.0\n",
            "sklearn-pandas==2.2.0\n",
            "smart-open==6.3.0\n",
            "snowballstemmer==2.2.0\n",
            "sortedcontainers==2.4.0\n",
            "soundfile==0.12.1\n",
            "soupsieve==2.4\n",
            "soxr==0.3.4\n",
            "spacy==3.5.1\n",
            "spacy-legacy==3.0.12\n",
            "spacy-loggers==1.0.4\n",
            "Sphinx==3.5.4\n",
            "sphinxcontrib-applehelp==1.0.4\n",
            "sphinxcontrib-devhelp==1.0.2\n",
            "sphinxcontrib-htmlhelp==2.0.1\n",
            "sphinxcontrib-jsmath==1.0.1\n",
            "sphinxcontrib-qthelp==1.0.3\n",
            "sphinxcontrib-serializinghtml==1.1.5\n",
            "SQLAlchemy==1.4.47\n",
            "sqlparse==0.4.3\n",
            "srsly==2.4.6\n",
            "statsmodels==0.13.5\n",
            "sympy==1.11.1\n",
            "tables==3.7.0\n",
            "tabulate==0.8.10\n",
            "tangled-up-in-unicode==0.2.0\n",
            "tblib==1.7.0\n",
            "tenacity==8.2.2\n",
            "tensorboard==2.11.2\n",
            "tensorboard-data-server==0.6.1\n",
            "tensorboard-plugin-wit==1.8.1\n",
            "tensorflow==2.11.0\n",
            "tensorflow-datasets==4.8.3\n",
            "tensorflow-estimator==2.11.0\n",
            "tensorflow-gcs-config==2.11.0\n",
            "tensorflow-hub==0.13.0\n",
            "tensorflow-io-gcs-filesystem==0.31.0\n",
            "tensorflow-metadata==1.12.0\n",
            "tensorflow-probability==0.19.0\n",
            "tensorstore==0.1.33\n",
            "termcolor==2.2.0\n",
            "terminado==0.17.1\n",
            "text-unidecode==1.3\n",
            "textblob==0.17.1\n",
            "tf-slim==1.1.0\n",
            "thinc==8.1.9\n",
            "threadpoolctl==3.1.0\n",
            "tifffile==2023.3.21\n",
            "tinycss2==1.2.1\n",
            "toml==0.10.2\n",
            "tomli==2.0.1\n",
            "toolz==0.12.0\n",
            "torch @ https://download.pytorch.org/whl/cu116/torch-1.13.1%2Bcu116-cp39-cp39-linux_x86_64.whl\n",
            "torchaudio @ https://download.pytorch.org/whl/cu116/torchaudio-0.13.1%2Bcu116-cp39-cp39-linux_x86_64.whl\n",
            "torchsummary==1.5.1\n",
            "torchtext==0.14.1\n",
            "torchvision @ https://download.pytorch.org/whl/cu116/torchvision-0.14.1%2Bcu116-cp39-cp39-linux_x86_64.whl\n",
            "tornado==6.2\n",
            "tqdm==4.65.0\n",
            "traitlets==5.7.1\n",
            "tweepy==4.13.0\n",
            "typer==0.7.0\n",
            "typing_extensions==4.5.0\n",
            "tzdata==2022.7\n",
            "tzlocal==4.3\n",
            "uritemplate==4.1.1\n",
            "urllib3==1.26.15\n",
            "vega-datasets==0.9.0\n",
            "visions==0.7.4\n",
            "wasabi==1.1.1\n",
            "wcwidth==0.2.6\n",
            "webencodings==0.5.1\n",
            "Werkzeug==2.2.3\n",
            "widgetsnbextension==3.6.3\n",
            "wordcloud==1.8.2.2\n",
            "wrapt==1.15.0\n",
            "xarray==2022.12.0\n",
            "xarray-einstats==0.5.1\n",
            "xgboost==1.7.4\n",
            "xkit==0.0.0\n",
            "xlrd==2.0.1\n",
            "yellowbrick==1.5\n",
            "yfinance==0.2.13\n",
            "zict==2.2.0\n",
            "zipp==3.15.0\n"
          ]
        }
      ]
    },
    {
      "cell_type": "code",
      "source": [],
      "metadata": {
        "id": "Juf5wm5Eov-Q"
      },
      "execution_count": null,
      "outputs": []
    }
  ],
  "metadata": {
    "accelerator": "GPU",
    "colab": {
      "name": "EmotionDetection1.ipynb",
      "provenance": [],
      "include_colab_link": true
    },
    "kernelspec": {
      "display_name": "Python 3",
      "language": "python",
      "name": "python3"
    },
    "language_info": {
      "codemirror_mode": {
        "name": "ipython",
        "version": 3
      },
      "file_extension": ".py",
      "mimetype": "text/x-python",
      "name": "python",
      "nbconvert_exporter": "python",
      "pygments_lexer": "ipython3",
      "version": "3.7.6"
    }
  },
  "nbformat": 4,
  "nbformat_minor": 0
}